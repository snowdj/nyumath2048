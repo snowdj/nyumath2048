{
 "cells": [
  {
   "cell_type": "markdown",
   "metadata": {},
   "source": [
    "# Homework Set 8"
   ]
  },
  {
   "cell_type": "code",
   "execution_count": 1,
   "metadata": {},
   "outputs": [
    {
     "name": "stdout",
     "output_type": "stream",
     "text": [
      "Populating the interactive namespace from numpy and matplotlib\n"
     ]
    }
   ],
   "source": [
    "%pylab inline"
   ]
  },
  {
   "cell_type": "markdown",
   "metadata": {},
   "source": [
    "## Problem 1:\n",
    "\n",
    "Prove the statement:\n",
    "\n",
    "* If $\\mathbf{x}^*$ is a solution to the original optimization problem (**Primal Problem**), then for $\\forall \\mathbf{\\lambda} \\succeq 0$ and any $\\mathbf{\\mu}$,\n",
    "\n",
    "$$\n",
    "\\hat{f}(\\mathbf{\\mu}, \\mathbf{\\lambda}) \\leq f(\\mathbf{x}^*).\n",
    "$$\n",
    "     \n",
    "   "
   ]
  },
  {
   "cell_type": "markdown",
   "metadata": {},
   "source": [
    "## Problem 2\n",
    "\n",
    "Derive the dual problem for the portfolio optimization problem:\n",
    "\n",
    "\n",
    "\\begin{aligned}\n",
    "\\min_{\\mathbf{x}} \\;\\; \\frac{1}{2} \\lambda\\; \\mathbf{x}^T \\Sigma \\mathbf{x} &- \\mu^T \\mathbf{x}\n",
    "\\\\\n",
    "s.t. \\;\\;\\sum_i x_i &= 1\n",
    "\\end{aligned}\n",
    "\n",
    "where $\\lambda$ is the risk-aversion coefficient, $\\mu$ is the expected asset return vector and $\\Sigma$ is the covariance matrix. \n",
    "\n"
   ]
  },
  {
   "cell_type": "markdown",
   "metadata": {},
   "source": [
    "## Problem 3\n",
    "\n",
    "\n",
    "Similar to our example in class, here is the table of future liabilities (in $millions):\n",
    "\n",
    "|  Years | 1 | 2 | 3 | 4 | 5 | 6 | 7 | 8 | 9 |\n",
    "| :-----: | :----: | :----: | :----: | :----: | :----: | :----: | :----: | :----: | :----: |\n",
    "|  Benefits($millions) | 24 | 26 | 28 | 28 | 26 | 29 | 32 | 33 | 34 |\n",
    "\n",
    "\n",
    "And here is the set of bonds that can be invested in:\n",
    "\n",
    "|  Bonds | 1 | 2 | 3 | 4 | 5 | 6 | 7 | 8 | 9 | 10 | 11 | 12 |\n",
    "| :-----: | :----: | :----: | :----: | :----: | :----: | :----: | :----: | :----: | :----: | :----: | :----: | :----: |\n",
    "|  Price | 102 | 101.625 | 103 | 102 | 102 | 103 | 101 | 101.5 | 102 | 102.75 | 103 | 104 |\n",
    "|  Coupon(%) | 1.25 | 1.5 | 2.5 | 1.75 | 2.125 | 2.5 | 2.625 | 3 | 3.125 | 3.5 |  3.75 | 4.5 |\n",
    "|  Maturity(Years) | 1 | 2 | 2 | 3 | 4 | 5 | 5 | 6 | 7 | 8 |  8 | 9 |\n",
    "\n",
    "\n",
    "Consider two excess cash scenarios: 1) not reused at each period. 2) reinvested at 1% interest rate and reused. \n",
    "Find the **least cost** portfolio of bonds so that the pension fund can meet its future liabilities. Please show your LP problem set up.\n"
   ]
  }
 ],
 "metadata": {
  "kernelspec": {
   "display_name": "Python 3",
   "language": "python",
   "name": "python3"
  },
  "language_info": {
   "codemirror_mode": {
    "name": "ipython",
    "version": 3
   },
   "file_extension": ".py",
   "mimetype": "text/x-python",
   "name": "python",
   "nbconvert_exporter": "python",
   "pygments_lexer": "ipython3",
   "version": "3.6.1"
  }
 },
 "nbformat": 4,
 "nbformat_minor": 1
}
